{
 "cells": [
  {
   "cell_type": "code",
   "execution_count": 1,
   "id": "28e92960",
   "metadata": {},
   "outputs": [],
   "source": [
    "import numpy as np\n",
    "from matplotlib import pyplot as plt"
   ]
  },
  {
   "cell_type": "markdown",
   "id": "6a1d9c27",
   "metadata": {},
   "source": [
    "## Model"
   ]
  },
  {
   "cell_type": "code",
   "execution_count": 2,
   "id": "aacd54d8",
   "metadata": {},
   "outputs": [],
   "source": [
    "class Logistic_regerssion:\n",
    "\n",
    "    def __init__(self):\n",
    "        self.w = np.random.normal(size=2)\n",
    "        self.b = np.random.rand(1)\n",
    "    \n",
    "    def sigmoid(self, z):\n",
    "        return 1/(1 + np.exp(-z))\n",
    "    \n",
    "    def predict(self, x):\n",
    "        z = np.inner(self.w, x) + self.b\n",
    "        a = self.sigmoid(z)\n",
    "        return a"
   ]
  },
  {
   "cell_type": "markdown",
   "id": "a360cb89",
   "metadata": {},
   "source": [
    "## Train"
   ]
  },
  {
   "cell_type": "code",
   "execution_count": 3,
   "id": "1b05819b",
   "metadata": {},
   "outputs": [],
   "source": [
    "def train(X, Y, model, lr = 0.1):\n",
    "    dw = np.zeros(2)\n",
    "    db = 0.0\n",
    "    m = len(X)\n",
    "    a = model.predict(X)\n",
    "    cost = np.zeros(m)\n",
    "    cost = cost - np.where(Y==1, np.log(a), np.log(1-a)) # actually, loss\n",
    "    cost = cost.sum() / m\n",
    "    dw += np.sum(np.repeat(a-Y, 2, axis=0).reshape((4,2)) * X, axis=0)\n",
    "    db += np.sum(a-Y)\n",
    "\n",
    "    model.w -= lr * dw / m\n",
    "    model.b -= lr * db / m\n",
    "    \n",
    "    return cost"
   ]
  },
  {
   "cell_type": "markdown",
   "id": "3673c309",
   "metadata": {},
   "source": [
    "---\n",
    "### AND"
   ]
  },
  {
   "cell_type": "code",
   "execution_count": 4,
   "id": "65de3a2f",
   "metadata": {},
   "outputs": [],
   "source": [
    "X = np.array([(0,0),(0,1),(1,0),(1,1)])\n",
    "Y = np.array([0,0,0,1])"
   ]
  },
  {
   "cell_type": "markdown",
   "id": "33db8428",
   "metadata": {},
   "source": [
    "#### lr = 0.1"
   ]
  },
  {
   "cell_type": "code",
   "execution_count": 5,
   "id": "d7d03a1d",
   "metadata": {
    "scrolled": true
   },
   "outputs": [],
   "source": [
    "model = Logistic_regerssion()\n",
    "\n",
    "costs_01 = []\n",
    "for epoch in range(10000):\n",
    "    cost = train(X, Y, model)\n",
    "    costs_01.append(cost)"
   ]
  },
  {
   "cell_type": "markdown",
   "id": "fd8ce174",
   "metadata": {},
   "source": [
    "#### lr = 0.25"
   ]
  },
  {
   "cell_type": "code",
   "execution_count": 6,
   "id": "00bc6843",
   "metadata": {},
   "outputs": [],
   "source": [
    "model = Logistic_regerssion()\n",
    "\n",
    "costs_025 = []\n",
    "for epoch in range(10000):\n",
    "    cost = train(X, Y, model, 0.25)\n",
    "    costs_025.append(cost)"
   ]
  },
  {
   "cell_type": "markdown",
   "id": "ca17b4e1",
   "metadata": {},
   "source": [
    "#### lr = 0.5"
   ]
  },
  {
   "cell_type": "code",
   "execution_count": 7,
   "id": "dbb659c1",
   "metadata": {},
   "outputs": [],
   "source": [
    "model = Logistic_regerssion()\n",
    "\n",
    "costs_05 = []\n",
    "for epoch in range(10000):\n",
    "    cost = train(X, Y, model, 0.5)\n",
    "    costs_05.append(cost)"
   ]
  },
  {
   "cell_type": "code",
   "execution_count": 8,
   "id": "7b57f703",
   "metadata": {
    "scrolled": false
   },
   "outputs": [
    {
     "data": {
      "text/plain": [
       "<matplotlib.legend.Legend at 0x1a8408eaf50>"
      ]
     },
     "execution_count": 8,
     "metadata": {},
     "output_type": "execute_result"
    },
    {
     "data": {
      "image/png": "[encoded data removed]",
      "text/plain": [
       "<Figure size 640x480 with 1 Axes>"
      ]
     },
     "metadata": {},
     "output_type": "display_data"
    }
   ],
   "source": [
    "plt.plot(np.arange(1, 10001), costs_01, color='blue', label=\"lr = 0.1\")\n",
    "plt.plot(np.arange(1, 10001), costs_025, color='green', label=\"lr = 0.25\")\n",
    "plt.plot(np.arange(1, 10001), costs_05, color='red', label=\"lr = 0.5\")\n",
    "plt.xlabel('epoch')\n",
    "plt.ylabel('cost')\n",
    "plt.legend()"
   ]
  },
  {
   "cell_type": "markdown",
   "id": "a3aa6f9f",
   "metadata": {},
   "source": [
    "#### result"
   ]
  },
  {
   "cell_type": "code",
   "execution_count": 9,
   "id": "69a7c6f8",
   "metadata": {},
   "outputs": [
    {
     "data": {
      "text/plain": [
       "array([9.37086487e-08])"
      ]
     },
     "execution_count": 9,
     "metadata": {},
     "output_type": "execute_result"
    }
   ],
   "source": [
    "model.predict(np.array([0,0]))"
   ]
  },
  {
   "cell_type": "code",
   "execution_count": 10,
   "id": "1ef4ce3d",
   "metadata": {},
   "outputs": [
    {
     "data": {
      "text/plain": [
       "array([0.00404156])"
      ]
     },
     "execution_count": 10,
     "metadata": {},
     "output_type": "execute_result"
    }
   ],
   "source": [
    "model.predict(np.array([0,1]))"
   ]
  },
  {
   "cell_type": "code",
   "execution_count": 11,
   "id": "92c01992",
   "metadata": {},
   "outputs": [
    {
     "data": {
      "text/plain": [
       "array([0.00404156])"
      ]
     },
     "execution_count": 11,
     "metadata": {},
     "output_type": "execute_result"
    }
   ],
   "source": [
    "model.predict(np.array([1,0]))"
   ]
  },
  {
   "cell_type": "code",
   "execution_count": 12,
   "id": "73e94330",
   "metadata": {
    "scrolled": true
   },
   "outputs": [
    {
     "data": {
      "text/plain": [
       "array([0.99434151])"
      ]
     },
     "execution_count": 12,
     "metadata": {},
     "output_type": "execute_result"
    }
   ],
   "source": [
    "model.predict(np.array([1,1]))"
   ]
  },
  {
   "cell_type": "markdown",
   "id": "ef702ec8",
   "metadata": {},
   "source": [
    "---\n",
    "### OR"
   ]
  },
  {
   "cell_type": "code",
   "execution_count": 13,
   "id": "ba1acab6",
   "metadata": {},
   "outputs": [],
   "source": [
    "X = np.array([(0,0),(0,1),(1,0),(1,1)])\n",
    "Y = np.array([0,1,1,1])"
   ]
  },
  {
   "cell_type": "markdown",
   "id": "25cd0caa",
   "metadata": {},
   "source": [
    "#### lr = 0.1"
   ]
  },
  {
   "cell_type": "code",
   "execution_count": 14,
   "id": "36756293",
   "metadata": {
    "scrolled": true
   },
   "outputs": [],
   "source": [
    "model = Logistic_regerssion()\n",
    "\n",
    "costs_01 = []\n",
    "for epoch in range(10000):\n",
    "    cost = train(X, Y, model)\n",
    "    costs_01.append(cost)"
   ]
  },
  {
   "cell_type": "markdown",
   "id": "6a119c74",
   "metadata": {},
   "source": [
    "#### lr = 0.25"
   ]
  },
  {
   "cell_type": "code",
   "execution_count": 15,
   "id": "eabed179",
   "metadata": {},
   "outputs": [],
   "source": [
    "model = Logistic_regerssion()\n",
    "\n",
    "costs_025 = []\n",
    "for epoch in range(10000):\n",
    "    cost = train(X, Y, model, 0.25)\n",
    "    costs_025.append(cost)"
   ]
  },
  {
   "cell_type": "markdown",
   "id": "df9d467f",
   "metadata": {},
   "source": [
    "#### lr = 0.5"
   ]
  },
  {
   "cell_type": "code",
   "execution_count": 16,
   "id": "d86a751f",
   "metadata": {},
   "outputs": [],
   "source": [
    "model = Logistic_regerssion()\n",
    "\n",
    "costs_05 = []\n",
    "for epoch in range(10000):\n",
    "    cost = train(X, Y, model, 0.5)\n",
    "    costs_05.append(cost)"
   ]
  },
  {
   "cell_type": "code",
   "execution_count": 17,
   "id": "759ea733",
   "metadata": {},
   "outputs": [
    {
     "data": {
      "text/plain": [
       "<matplotlib.legend.Legend at 0x1a8409b3af0>"
      ]
     },
     "execution_count": 17,
     "metadata": {},
     "output_type": "execute_result"
    },
    {
     "data": {
      "image/png": "[encoded data removed]",
      "text/plain": [
       "<Figure size 640x480 with 1 Axes>"
      ]
     },
     "metadata": {},
     "output_type": "display_data"
    }
   ],
   "source": [
    "plt.plot(np.arange(1, 10001), costs_01, color='blue', label=\"lr = 0.1\")\n",
    "plt.plot(np.arange(1, 10001), costs_025, color='green', label=\"lr = 0.25\")\n",
    "plt.plot(np.arange(1, 10001), costs_05, color='red', label=\"lr = 0.5\")\n",
    "plt.xlabel('epoch')\n",
    "plt.ylabel('cost')\n",
    "plt.legend()"
   ]
  },
  {
   "cell_type": "markdown",
   "id": "0c327215",
   "metadata": {},
   "source": [
    "#### result"
   ]
  },
  {
   "cell_type": "code",
   "execution_count": 18,
   "id": "62bd8a4e",
   "metadata": {},
   "outputs": [
    {
     "data": {
      "text/plain": [
       "array([0.00404198])"
      ]
     },
     "execution_count": 18,
     "metadata": {},
     "output_type": "execute_result"
    }
   ],
   "source": [
    "model.predict(np.array([0,0]))"
   ]
  },
  {
   "cell_type": "code",
   "execution_count": 19,
   "id": "434fcf0c",
   "metadata": {},
   "outputs": [
    {
     "data": {
      "text/plain": [
       "array([0.99838368])"
      ]
     },
     "execution_count": 19,
     "metadata": {},
     "output_type": "execute_result"
    }
   ],
   "source": [
    "model.predict(np.array([0,1]))"
   ]
  },
  {
   "cell_type": "code",
   "execution_count": 20,
   "id": "e9e5edb4",
   "metadata": {},
   "outputs": [
    {
     "data": {
      "text/plain": [
       "array([0.99838363])"
      ]
     },
     "execution_count": 20,
     "metadata": {},
     "output_type": "execute_result"
    }
   ],
   "source": [
    "model.predict(np.array([1,0]))"
   ]
  },
  {
   "cell_type": "code",
   "execution_count": 21,
   "id": "facc7a6b",
   "metadata": {
    "scrolled": true
   },
   "outputs": [
    {
     "data": {
      "text/plain": [
       "array([0.99999999])"
      ]
     },
     "execution_count": 21,
     "metadata": {},
     "output_type": "execute_result"
    }
   ],
   "source": [
    "model.predict(np.array([1,1]))"
   ]
  },
  {
   "cell_type": "markdown",
   "id": "471bf44a",
   "metadata": {},
   "source": [
    "---\n",
    "### XOR"
   ]
  },
  {
   "cell_type": "code",
   "execution_count": 22,
   "id": "30455eb0",
   "metadata": {},
   "outputs": [],
   "source": [
    "X = np.array([(0,0),(0,1),(1,0),(1,1)])\n",
    "Y = np.array([0,1,1,0])"
   ]
  },
  {
   "cell_type": "markdown",
   "id": "379ac6d8",
   "metadata": {},
   "source": [
    "#### lr = 0.1"
   ]
  },
  {
   "cell_type": "code",
   "execution_count": 23,
   "id": "8ab9a11f",
   "metadata": {
    "scrolled": true
   },
   "outputs": [],
   "source": [
    "model = Logistic_regerssion()\n",
    "\n",
    "costs_01 = []\n",
    "for epoch in range(10000):\n",
    "    cost = train(X, Y, model)\n",
    "    costs_01.append(cost)"
   ]
  },
  {
   "cell_type": "markdown",
   "id": "6fe32e57",
   "metadata": {},
   "source": [
    "#### lr = 0.25"
   ]
  },
  {
   "cell_type": "code",
   "execution_count": 24,
   "id": "97555a33",
   "metadata": {},
   "outputs": [],
   "source": [
    "model = Logistic_regerssion()\n",
    "\n",
    "costs_025 = []\n",
    "for epoch in range(10000):\n",
    "    cost = train(X, Y, model, 0.25)\n",
    "    costs_025.append(cost)"
   ]
  },
  {
   "cell_type": "markdown",
   "id": "30ac1c22",
   "metadata": {},
   "source": [
    "#### lr = 0.5"
   ]
  },
  {
   "cell_type": "code",
   "execution_count": 25,
   "id": "93be9a7b",
   "metadata": {},
   "outputs": [],
   "source": [
    "model = Logistic_regerssion()\n",
    "\n",
    "costs_05 = []\n",
    "for epoch in range(10000):\n",
    "    cost = train(X, Y, model, 0.5)\n",
    "    costs_05.append(cost)"
   ]
  },
  {
   "cell_type": "code",
   "execution_count": 26,
   "id": "e7240da6",
   "metadata": {},
   "outputs": [
    {
     "data": {
      "text/plain": [
       "<matplotlib.legend.Legend at 0x1a840a345e0>"
      ]
     },
     "execution_count": 26,
     "metadata": {},
     "output_type": "execute_result"
    },
    {
     "data": {
      "image/png": "[encoded data removed]",
      "text/plain": [
       "<Figure size 640x480 with 1 Axes>"
      ]
     },
     "metadata": {},
     "output_type": "display_data"
    }
   ],
   "source": [
    "plt.plot(np.arange(1, 10001), costs_01, color='blue', label=\"lr = 0.1\")\n",
    "plt.plot(np.arange(1, 10001), costs_025, color='green', label=\"lr = 0.25\")\n",
    "plt.plot(np.arange(1, 10001), costs_05, color='red', label=\"lr = 0.5\")\n",
    "plt.xlabel('epoch')\n",
    "plt.ylabel('cost')\n",
    "plt.legend()"
   ]
  },
  {
   "cell_type": "markdown",
   "id": "41e98a14",
   "metadata": {},
   "source": [
    "#### result"
   ]
  },
  {
   "cell_type": "code",
   "execution_count": 27,
   "id": "4b1099e0",
   "metadata": {},
   "outputs": [
    {
     "data": {
      "text/plain": [
       "array([0.5])"
      ]
     },
     "execution_count": 27,
     "metadata": {},
     "output_type": "execute_result"
    }
   ],
   "source": [
    "model.predict(np.array([0,0]))"
   ]
  },
  {
   "cell_type": "code",
   "execution_count": 28,
   "id": "3289ec32",
   "metadata": {},
   "outputs": [
    {
     "data": {
      "text/plain": [
       "array([0.5])"
      ]
     },
     "execution_count": 28,
     "metadata": {},
     "output_type": "execute_result"
    }
   ],
   "source": [
    "model.predict(np.array([0,1]))"
   ]
  },
  {
   "cell_type": "code",
   "execution_count": 29,
   "id": "d58c73f9",
   "metadata": {},
   "outputs": [
    {
     "data": {
      "text/plain": [
       "array([0.5])"
      ]
     },
     "execution_count": 29,
     "metadata": {},
     "output_type": "execute_result"
    }
   ],
   "source": [
    "model.predict(np.array([1,0]))"
   ]
  },
  {
   "cell_type": "code",
   "execution_count": 30,
   "id": "4825d9fc",
   "metadata": {
    "scrolled": true
   },
   "outputs": [
    {
     "data": {
      "text/plain": [
       "array([0.5])"
      ]
     },
     "execution_count": 30,
     "metadata": {},
     "output_type": "execute_result"
    }
   ],
   "source": [
    "model.predict(np.array([1,1]))"
   ]
  }
 ],
 "metadata": {
  "kernelspec": {
   "display_name": "Python 3 (ipykernel)",
   "language": "python",
   "name": "python3"
  },
  "language_info": {
   "codemirror_mode": {
    "name": "ipython",
    "version": 3
   },
   "file_extension": ".py",
   "mimetype": "text/x-python",
   "name": "python",
   "nbconvert_exporter": "python",
   "pygments_lexer": "ipython3",
   "version": "3.10.6"
  }
 },
 "nbformat": 4,
 "nbformat_minor": 5
}
